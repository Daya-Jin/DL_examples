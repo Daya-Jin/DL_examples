{
 "cells": [
  {
   "cell_type": "code",
   "execution_count": 1,
   "metadata": {},
   "outputs": [
    {
     "name": "stderr",
     "output_type": "stream",
     "text": [
      "/usr/local/lib/python3.5/dist-packages/h5py/__init__.py:36: FutureWarning: Conversion of the second argument of issubdtype from `float` to `np.floating` is deprecated. In future, it will be treated as `np.float64 == np.dtype(float).type`.\n",
      "  from ._conv import register_converters as _register_converters\n"
     ]
    }
   ],
   "source": [
    "import tensorflow as tf\n",
    "from tensorflow import gfile,logging\n",
    "import numpy as np\n",
    "import math\n",
    "import os\n",
    "os.sys.path.append(os.path.dirname(os.path.abspath('.')))"
   ]
  },
  {
   "cell_type": "code",
   "execution_count": 2,
   "metadata": {},
   "outputs": [
    {
     "name": "stdout",
     "output_type": "stream",
     "text": [
      "\n",
      "WARNING: The TensorFlow contrib module will not be included in TensorFlow 2.0.\n",
      "For more information, please see:\n",
      "  * https://github.com/tensorflow/community/blob/master/rfcs/20180907-contrib-sunset.md\n",
      "  * https://github.com/tensorflow/addons\n",
      "If you depend on functionality not listed there, please file an issue.\n",
      "\n"
     ]
    }
   ],
   "source": [
    "# 预设参数\n",
    "def get_default_params():\n",
    "    return tf.contrib.training.HParams(\n",
    "        emb_size=64,    # 嵌入维度\n",
    "        t_size=10,    # LSTM的时间维度\n",
    "        lstm_size=[32, 32],\n",
    "        lstm_layers=2,\n",
    "        fc_size=32,\n",
    "        dropout_rate=0.2,\n",
    "        batch_size=64,\n",
    "        grad_thresh=1.0,    # 梯度阈值\n",
    "        lr=0.001,    # 学习率\n",
    "        cnt_thresh=3,    # 词的频率阈值\n",
    "    )\n",
    "\n",
    "\n",
    "params = get_default_params()\n",
    "\n",
    "# 路径\n",
    "cap_file = '../dataset/flickr30k/results_20130124.token'    # cap文件\n",
    "voc_file = '../dataset/flickr30k/vocab.txt'    # 词典文件\n",
    "feature_dir = '../dataset/flickr30k/features'    # 图片特征路径"
   ]
  },
  {
   "cell_type": "code",
   "execution_count": 3,
   "metadata": {},
   "outputs": [
    {
     "name": "stdout",
     "output_type": "stream",
     "text": [
      "[1495, 389, 1, 0]\n",
      "I have a <UNK>\n"
     ]
    }
   ],
   "source": [
    "from NLP.vocab import Vocab\n",
    "\n",
    "# test\n",
    "voc=Vocab(voc_file,params.cnt_thresh)\n",
    "print(voc.s2id('I have a dream'))    # 应该返回[1495,389,1,0]\n",
    "print(voc.id2s([1495,389,1,0]))    # 应该返回'I have a <UNK>'"
   ]
  },
  {
   "cell_type": "markdown",
   "metadata": {},
   "source": [
    "然后解析cap文件，并写一个将img_name与编码后的cap对应起来的函数："
   ]
  },
  {
   "cell_type": "code",
   "execution_count": null,
   "metadata": {},
   "outputs": [],
   "source": [
    "# 该函数与feature_extraction.py中的一样\n",
    "def parse_cap(cap_path):\n",
    "    '''\n",
    "    解析cap文件\n",
    "    :param cap_path: 描述文件\n",
    "    :return: img与cap的映射表\n",
    "    '''\n",
    "    with gfile.GFile(cap_path, 'r') as fd:\n",
    "        text = fd.readlines()\n",
    "\n",
    "    img2cap = dict()\n",
    "\n",
    "    for line in text:\n",
    "        img_name, cap = line.strip().split('\\t')\n",
    "        img_name = img_name.split('#')[0]\n",
    "        cap = cap.strip()\n",
    "\n",
    "        img2cap.setdefault(img_name, list())\n",
    "        img2cap[img_name].append(cap)\n",
    "\n",
    "    return img2cap\n",
    "\n",
    "\n",
    "def img2capid(img2cap, voc_cls):\n",
    "    '''\n",
    "    img2cap: img_name到cap的映射字典\n",
    "    voc_cls: 编码器\n",
    "    '''\n",
    "    imgname2capid = dict()\n",
    "\n",
    "    for img_name in img2cap.keys():\n",
    "        imgname2capid.setdefault(img_name, list())\n",
    "        caps = img2cap[img_name]\n",
    "\n",
    "        for cap in caps:\n",
    "            cap_id = voc_cls.s2id(cap)    # 使用编码器编码\n",
    "            imgname2capid[img_name].append(cap_id)\n",
    "\n",
    "    return imgname2capid\n",
    "\n",
    "# test\n",
    "# voc=Vocab(voc_file,params.cnt_thresh)\n",
    "# img2cap=parse_cap(cap_file)\n",
    "# imgname2capid=img2capid(img2cap,voc)\n",
    "# imgname2capid['2778832101.jpg']"
   ]
  },
  {
   "cell_type": "markdown",
   "metadata": {},
   "source": [
    "接下来是任务专用数据类，用于给模型提供数据。这里提供的数据$(X,Y)$分别是图片特征与文字描述。"
   ]
  },
  {
   "cell_type": "code",
   "execution_count": null,
   "metadata": {
    "scrolled": false
   },
   "outputs": [],
   "source": [
    "import pickle\n",
    "import numpy as np\n",
    "import random\n",
    "\n",
    "\n",
    "class ImgCapData:\n",
    "    def __init__(self, imgname2capid, voc_cls, feature_dir, t_size=20, batch_size=32, shuffle=True):\n",
    "        self._voc_cls = voc_cls\n",
    "\n",
    "        img_feature_files = list()    # 图片特征pickle文件列表\n",
    "        for file in gfile.ListDirectory(feature_dir):\n",
    "            img_feature_files.append(os.path.join(feature_dir, file))\n",
    "\n",
    "        self._imgname2capid = imgname2capid\n",
    "        self._t_size = t_size\n",
    "        self._idx = 0\n",
    "        self._batch_size = batch_size\n",
    "        self._n_samples = 0\n",
    "        self._n_features = 0\n",
    "\n",
    "        self._img_names = list()\n",
    "        self._img_features = list()\n",
    "        self._load_img_feature(img_feature_files)\n",
    "\n",
    "        if shuffle:\n",
    "            self._shuffle_data()\n",
    "\n",
    "    @property\n",
    "    def img_names(self):\n",
    "        return self._img_names\n",
    "\n",
    "    @property\n",
    "    def img_features(self):\n",
    "        return self._img_features\n",
    "\n",
    "    @property\n",
    "    def n_samples(self):\n",
    "        return self._n_samples\n",
    "\n",
    "    @property\n",
    "    def n_features(self):\n",
    "        return self._n_features\n",
    "\n",
    "    def _load_img_feature(self, img_feature_files):\n",
    "        '''\n",
    "        载入图片特征\n",
    "        img_feature_files: pickle文件路径列表\n",
    "        '''\n",
    "        for file in img_feature_files:\n",
    "            with gfile.GFile(file, 'rb') as fd:\n",
    "                img_name_batch, img_featur_batch = pickle.load(fd)\n",
    "                self._img_names += img_name_batch\n",
    "                self._img_features.append(img_featur_batch)\n",
    "\n",
    "        self._img_features = np.vstack(self._img_features)\n",
    "        shape_org = self._img_features.shape    # 原始形状(n_samples,1,1,2048)\n",
    "        self._img_features = np.reshape(self._img_features,\n",
    "                                        (shape_org[0], shape_org[-1]))\n",
    "\n",
    "        self._img_names = np.asarray(self._img_names)\n",
    "        self._n_samples = self._img_names.shape[0]\n",
    "        self._n_features=shape_org[-1]\n",
    "\n",
    "    def _shuffle_data(self):\n",
    "        idxs = np.random.permutation(self._n_samples)\n",
    "        self._img_names = self._img_names[idxs]\n",
    "        self._img_features = self._img_features[idxs]\n",
    "\n",
    "    def _get_cap(self, img_batch):\n",
    "        '''\n",
    "        由一个batch的img_name得到一个batch的capid\n",
    "        '''\n",
    "        s_id_batch = list()\n",
    "        w_batch = list()\n",
    "\n",
    "        for img in img_batch:\n",
    "            caps_id = self._imgname2capid[img]    # 图片对应的5个cap\n",
    "            chosen_cap_id = random.choice(caps_id)    # 随机挑选一个cap\n",
    "\n",
    "            chosen_cap_id = chosen_cap_id[:self._t_size]    # 截断\n",
    "            cap_len = len(chosen_cap_id)\n",
    "            loss_weight = [1 for _ in range(cap_len)]    # 计算loss时的weight掩码\n",
    "\n",
    "            n_pad = self._t_size-cap_len    # pad数，小于等于0时不起作用\n",
    "            chosen_cap_id += [self._voc_cls.unk for _ in range(n_pad)]\n",
    "            loss_weight += [0 for _ in range(n_pad)]\n",
    "\n",
    "            s_id_batch.append(chosen_cap_id)\n",
    "            w_batch.append(loss_weight)\n",
    "\n",
    "        return np.asarray(s_id_batch), np.asarray(w_batch)\n",
    "\n",
    "    def next_batch(self):\n",
    "        while self._idx+self._batch_size < self._n_samples:\n",
    "            # 图片特征，即X\n",
    "            img_feature_batch = self._img_features[self._idx:\n",
    "                                                   (self._idx+self._batch_size)]\n",
    "            # img_name，用于提取cap\n",
    "            img_name_batch = self._img_names[self._idx:\n",
    "                                             (self._idx+self._batch_size)]\n",
    "            # cap_id即Y，cap_w即损失权重\n",
    "            cap_id_batch, cap_w_batch = self._get_cap(img_name_batch)\n",
    "            yield img_feature_batch, cap_id_batch, cap_w_batch\n",
    "\n",
    "        self._idx = 0\n",
    "        self._shuffle_data()\n",
    "\n",
    "\n",
    "# test\n",
    "voc = Vocab(voc_file, params.cnt_thresh)\n",
    "img2cap = parse_cap(cap_file)\n",
    "imgname2capid = img2capid(img2cap, voc)\n",
    "data = ImgCapData(imgname2capid, voc, feature_dir, t_size=params.t_size)"
   ]
  },
  {
   "cell_type": "markdown",
   "metadata": {},
   "source": [
    "## 网络设计"
   ]
  },
  {
   "cell_type": "code",
   "execution_count": null,
   "metadata": {},
   "outputs": [],
   "source": [
    "unit_I = data.n_features\n",
    "\n",
    "voc_size = voc.size    # 词典大小\n",
    "\n",
    "emb_size = params.emb_size\n",
    "t_size = params.t_size\n",
    "\n",
    "unit_fc = 32\n",
    "\n",
    "unit_O = voc.size"
   ]
  },
  {
   "cell_type": "markdown",
   "metadata": {},
   "source": [
    "## 网络搭建\n",
    "输入处理。Google的show and tell模型是一个seq2seq模型，其输入序列为```img -> word1 -> word2 -> ...```。假设```t_size=10```，那么准确来说$X_{seq}$为```img -> word1 -> ... -> word9```，需要预测的序列为```word1 -> ... -> word10```。"
   ]
  },
  {
   "cell_type": "code",
   "execution_count": null,
   "metadata": {},
   "outputs": [],
   "source": [
    "X = tf.placeholder(tf.float32, [None, unit_I])\n",
    "Y = tf.placeholder(tf.int32, [None, t_size])\n",
    "w = tf.placeholder(tf.float32, [None, t_size])    # 计算损失时的权重\n",
    "is_training = tf.placeholder(tf.bool)\n",
    "\n",
    "global_step = tf.Variable(tf.zeros([], tf.int32),\n",
    "                          name='global_step', trainable=False)\n",
    "\n",
    "# 对图片特征做嵌入\n",
    "img_emb_init = tf.uniform_unit_scaling_initializer(factor=1)\n",
    "with tf.variable_scope('img_emb', initializer=img_emb_init):\n",
    "    img_emb = tf.layers.dense(X, emb_size)\n",
    "    # 在中间插入一个时间维度，得到(batch_size,1,emb_size)\n",
    "    img_emb = tf.expand_dims(img_emb, 1)\n",
    "\n",
    "# 将单词的id做嵌入\n",
    "s_emb_init = tf.random_uniform_initializer(-1, 1)\n",
    "with tf.variable_scope('s_emb', initializer=s_emb_init):\n",
    "    s_emb_lookup = tf.get_variable('embedding', [voc_size, emb_size],\n",
    "                                   tf.float32)\n",
    "    # (batch_size,t_size-1,emb_size)\n",
    "    s_emb = tf.nn.embedding_lookup(s_emb_lookup, Y[:, :params.t_size-1])\n",
    "\n",
    "# 在时间维度上堆叠，图片嵌入是初始状态\n",
    "# (batch_size,t_size,emb_size)\n",
    "inputs = tf.concat([img_emb, s_emb], axis=1)"
   ]
  },
  {
   "cell_type": "markdown",
   "metadata": {},
   "source": [
    "网络的搭建。"
   ]
  },
  {
   "cell_type": "code",
   "execution_count": null,
   "metadata": {
    "scrolled": true
   },
   "outputs": [],
   "source": [
    "scale = 1.0 / math.sqrt(params.emb_size + params.lstm_size[-1]) / 3.0\n",
    "lstm_init = tf.random_uniform_initializer(-scale, scale)\n",
    "with tf.variable_scope('lstm', initializer=lstm_init):\n",
    "    lstm_layers = list()\n",
    "    for i in range(params.lstm_layers):\n",
    "        layer = tf.nn.rnn_cell.LSTMCell(params.lstm_size[i])\n",
    "\n",
    "        # DropoutWrapper没有training参数，只能使用tf.cond来实现\n",
    "        keep_prob = tf.cond(is_training,\n",
    "                            lambda: 1-params.dropout_rate,\n",
    "                            lambda: tf.constant(1.0))\n",
    "        layer = tf.nn.rnn_cell.DropoutWrapper(layer,\n",
    "                                              output_keep_prob=keep_prob)\n",
    "\n",
    "        lstm_layers.append(layer)\n",
    "\n",
    "    lstm_layers = tf.nn.rnn_cell.MultiRNNCell(lstm_layers)\n",
    "    lstm_outputs, _ = tf.nn.dynamic_rnn(lstm_layers, inputs=inputs,\n",
    "                                        dtype=tf.float32)    # (batch_size,t_size,lstm_size[-1])\n",
    "    # 把所有bathch的所有状态压成向量，便于全连接\n",
    "    # (batch_size*t_size,lstm_size[-1])\n",
    "    lstm_outputs = tf.reshape(lstm_outputs, [-1, params.lstm_size[-1]])\n",
    "\n",
    "# FC layer\n",
    "fc_init = tf.uniform_unit_scaling_initializer(factor=1)\n",
    "with tf.variable_scope('fc', initializer=fc_init):\n",
    "    # (batch_size*t_size,unit_fc)\n",
    "    fc = tf.layers.dense(lstm_outputs, unit_fc, activation=tf.nn.relu)\n",
    "    fc = tf.layers.dropout(fc, rate=params.dropout_rate, training=is_training)\n",
    "\n",
    "logits = tf.layers.dense(fc, unit_O)    # (batch_size*t_size,voc_size)\n",
    "\n",
    "with tf.name_scope('Eval'):\n",
    "    Y_flatten = tf.reshape(Y, [-1])    # (batch_size*t_size)\n",
    "    w_flatten = tf.reshape(w, [-1])    # (batch_size*t_size)\n",
    "    w_sum = tf.reduce_sum(w_flatten)\n",
    "\n",
    "    # 损失向量，与labels同形状\n",
    "    loss_vec = tf.losses.sparse_softmax_cross_entropy(labels=Y_flatten,\n",
    "                                                      logits=logits, reduction=tf.losses.Reduction.NONE)\n",
    "    loss_vec = tf.multiply(loss_vec, w_flatten)    # 对应位相乘\n",
    "    loss = tf.reduce_sum(loss_vec)/w_sum\n",
    "\n",
    "    pred = tf.math.argmax(logits, axis=1, output_type=tf.int32)\n",
    "    correct_pred = tf.equal(pred, Y_flatten)\n",
    "    correct_pred = tf.multiply(tf.cast(correct_pred, tf.float32), w_flatten)\n",
    "    acc = tf.reduce_sum(correct_pred)/w_sum\n",
    "\n",
    "with tf.name_scope('train_op'):\n",
    "    lr = 1e-3\n",
    "    t_vars = tf.trainable_variables()    # 可训练变量\n",
    "    grads, _ = tf.clip_by_global_norm(tf.gradients(loss, t_vars),\n",
    "                                      params.grad_thresh)\n",
    "    optimizer = tf.train.AdamOptimizer(params.lr)\n",
    "    train_op = optimizer.apply_gradients(zip(grads, t_vars),\n",
    "                                         global_step=global_step)\n",
    "\n",
    "init = tf.global_variables_initializer()\n",
    "config = tf.ConfigProto()\n",
    "config.gpu_options.allow_growth = True    # 按需使用显存"
   ]
  },
  {
   "cell_type": "markdown",
   "metadata": {},
   "source": [
    "## 训练模型"
   ]
  },
  {
   "cell_type": "code",
   "execution_count": null,
   "metadata": {
    "scrolled": true
   },
   "outputs": [],
   "source": [
    "with tf.Session(config=config) as sess:\n",
    "    sess.run(init)\n",
    "    epochs = 5\n",
    "\n",
    "    batch_cnt = 0\n",
    "    for epoch in range(epochs):\n",
    "        for img_feature_batch, cap_id_batch, cap_w_batch in data.next_batch():\n",
    "            batch_cnt += 1\n",
    "\n",
    "            loss_val, acc_val, _ = sess.run([loss, acc, train_op],\n",
    "                                            feed_dict={X: img_feature_batch, \n",
    "                                                       Y: cap_id_batch, \n",
    "                                                       w: cap_w_batch,\n",
    "                                                      is_training:True})\n",
    "            \n",
    "            # 每1000batch输出一次信息\n",
    "            if (batch_cnt+1) % 1000 == 0:\n",
    "                print('epoch: {}, batch_loss: {}, batch_acc: {}'.format(\n",
    "                    epoch, loss_val, acc_val))"
   ]
  },
  {
   "cell_type": "code",
   "execution_count": null,
   "metadata": {},
   "outputs": [],
   "source": []
  }
 ],
 "metadata": {
  "kernelspec": {
   "display_name": "Python 3",
   "language": "python",
   "name": "python3"
  },
  "language_info": {
   "codemirror_mode": {
    "name": "ipython",
    "version": 3
   },
   "file_extension": ".py",
   "mimetype": "text/x-python",
   "name": "python",
   "nbconvert_exporter": "python",
   "pygments_lexer": "ipython3",
   "version": "3.5.2"
  }
 },
 "nbformat": 4,
 "nbformat_minor": 2
}
