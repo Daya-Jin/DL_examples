{
 "cells": [
  {
   "cell_type": "code",
   "execution_count": 1,
   "metadata": {},
   "outputs": [
    {
     "name": "stderr",
     "output_type": "stream",
     "text": [
      "/usr/lib/python3.5/importlib/_bootstrap.py:222: RuntimeWarning: numpy.dtype size changed, may indicate binary incompatibility. Expected 96, got 88\n",
      "  return f(*args, **kwds)\n",
      "/usr/local/lib/python3.5/dist-packages/h5py/__init__.py:36: FutureWarning: Conversion of the second argument of issubdtype from `float` to `np.floating` is deprecated. In future, it will be treated as `np.float64 == np.dtype(float).type`.\n",
      "  from ._conv import register_converters as _register_converters\n"
     ]
    }
   ],
   "source": [
    "import tensorflow as tf\n",
    "import numpy as np"
   ]
  },
  {
   "cell_type": "markdown",
   "metadata": {},
   "source": [
    "# 数据准备"
   ]
  },
  {
   "cell_type": "code",
   "execution_count": 2,
   "metadata": {},
   "outputs": [],
   "source": [
    "corpus = ['king is a strong man',\n",
    "          'queen is a wise woman',\n",
    "          'boy is a young man',\n",
    "          'girl is a young woman',\n",
    "          'prince is a young king',\n",
    "          'princess is a young queen',\n",
    "          'man is strong',\n",
    "          'woman is pretty',\n",
    "          'prince is a boy will be king',\n",
    "          'princess is a girl will be queen']"
   ]
  },
  {
   "cell_type": "markdown",
   "metadata": {},
   "source": [
    "# 数据预处理"
   ]
  },
  {
   "cell_type": "markdown",
   "metadata": {},
   "source": [
    "去除一些停止词："
   ]
  },
  {
   "cell_type": "code",
   "execution_count": 10,
   "metadata": {},
   "outputs": [
    {
     "name": "stdout",
     "output_type": "stream",
     "text": [
      "['king strong man', 'queen wise woman', 'boy young man', 'girl young woman', 'prince young king', 'princess young queen', 'man strong', 'woman pretty', 'prince boy king', 'princess girl queen']\n"
     ]
    }
   ],
   "source": [
    "def remove_stop_words(corpus):\n",
    "    stop_words = set(['is', 'a', 'will', 'be'])\n",
    "    return [\" \".join([word for word in text.split() if word not in stop_words]) for text in corpus]\n",
    "\n",
    "\n",
    "corpus = remove_stop_words(corpus)\n",
    "print(corpus)"
   ]
  },
  {
   "cell_type": "markdown",
   "metadata": {},
   "source": [
    "找出词语的集合："
   ]
  },
  {
   "cell_type": "code",
   "execution_count": 4,
   "metadata": {},
   "outputs": [],
   "source": [
    "words_set = set()\n",
    "for text in corpus:\n",
    "    for word in text.split(' '):\n",
    "        words_set.add(word)\n",
    "\n",
    "# words_set"
   ]
  },
  {
   "cell_type": "markdown",
   "metadata": {},
   "source": [
    "维护一个word-number的映射表，使用字典实现："
   ]
  },
  {
   "cell_type": "code",
   "execution_count": 5,
   "metadata": {},
   "outputs": [],
   "source": [
    "word2int=dict()\n",
    "int2word=dict()\n",
    "for idx,word in enumerate(words_set):\n",
    "    word2int[word]=idx\n",
    "    int2word[idx]=word\n",
    "\n",
    "# word2int"
   ]
  },
  {
   "cell_type": "markdown",
   "metadata": {},
   "source": [
    "使用滑动窗口生成数据："
   ]
  },
  {
   "cell_type": "code",
   "execution_count": 6,
   "metadata": {
    "scrolled": true
   },
   "outputs": [],
   "source": [
    "WINDOW_SIZE = 2    # 中心词与左右边界的距离\n",
    "center_words = list()\n",
    "context_words = list()\n",
    "\n",
    "for text in corpus:\n",
    "    words = text.split()\n",
    "    for idx, center_word in enumerate(words):\n",
    "        # 限定区域\n",
    "        for context_word in words[max(0, idx-WINDOW_SIZE):min(idx+WINDOW_SIZE, len(words))+1]:\n",
    "            if context_word != center_word:\n",
    "                center_words.append(center_word)\n",
    "                context_words.append(context_word)\n",
    "                \n",
    "print(center_words,context_words,sep='\\n')"
   ]
  },
  {
   "cell_type": "markdown",
   "metadata": {},
   "source": [
    "将数据转换成one-hot向量："
   ]
  },
  {
   "cell_type": "code",
   "execution_count": 7,
   "metadata": {
    "scrolled": true
   },
   "outputs": [],
   "source": [
    "ONE_HOT_DIM = len(words_set)\n",
    "\n",
    "def to_onehot(word):\n",
    "    res=np.zeros(ONE_HOT_DIM)\n",
    "    res[word2int[word]]=1\n",
    "    return res\n",
    "\n",
    "X_train=np.array(list(map(to_onehot,center_words)))\n",
    "Y_train=np.array(list(map(to_onehot,context_words)))"
   ]
  },
  {
   "cell_type": "markdown",
   "metadata": {},
   "source": [
    "# 网络设计\n",
    "最简单的词嵌入模型是一个单隐层多输出的神经网络，输入层的单元数等于词库的大小，隐藏层单元数等于嵌入词向量的维度，输出层单元数仍然等于词库的大小。"
   ]
  },
  {
   "cell_type": "code",
   "execution_count": 8,
   "metadata": {},
   "outputs": [],
   "source": [
    "unit_I = len(words_set)\n",
    "unit_h1 = 2    # embedding size\n",
    "unit_O = unit_I"
   ]
  },
  {
   "cell_type": "markdown",
   "metadata": {},
   "source": [
    "# 搭建网络"
   ]
  },
  {
   "cell_type": "code",
   "execution_count": 9,
   "metadata": {},
   "outputs": [
    {
     "name": "stdout",
     "output_type": "stream",
     "text": [
      "WARNING:tensorflow:From <ipython-input-9-17902aafffc4>:7: dense (from tensorflow.python.layers.core) is deprecated and will be removed in a future version.\n",
      "Instructions for updating:\n",
      "Use keras.layers.dense instead.\n",
      "WARNING:tensorflow:From /usr/local/lib/python3.5/dist-packages/tensorflow/python/framework/op_def_library.py:263: colocate_with (from tensorflow.python.framework.ops) is deprecated and will be removed in a future version.\n",
      "Instructions for updating:\n",
      "Colocations handled automatically by placer.\n",
      "WARNING:tensorflow:From /usr/local/lib/python3.5/dist-packages/tensorflow/python/ops/losses/losses_impl.py:209: to_float (from tensorflow.python.ops.math_ops) is deprecated and will be removed in a future version.\n",
      "Instructions for updating:\n",
      "Use tf.cast instead.\n"
     ]
    }
   ],
   "source": [
    "# 输入必须是可由用户指定的，所以设为placeholder\n",
    "X = tf.placeholder(tf.float32, [None, unit_I])\n",
    "Y = tf.placeholder(tf.float32, [None, unit_O])\n",
    "\n",
    "# 网络结构图\n",
    "with tf.name_scope('WordEmb'):\n",
    "    hidden1 = tf.layers.dense(X, unit_h1,\n",
    "                              activation=None, name='emb')    # 隐层即嵌入层\n",
    "    # 嵌入层与FC层的区别就在于，做嵌入需要的是参数，而FC层需要的输出\n",
    "    with tf.variable_scope('emb', reuse=True):\n",
    "        w = tf.get_variable(\"kernel\")\n",
    "        b = tf.get_variable(\"bias\")\n",
    "\n",
    "    logits = tf.layers.dense(hidden1, unit_O, activation=None)\n",
    "\n",
    "# 评估子图\n",
    "with tf.name_scope('Eval'):\n",
    "    loss = tf.losses.softmax_cross_entropy(onehot_labels=Y, logits=logits)\n",
    "\n",
    "# 优化图\n",
    "with tf.name_scope('train_op'):\n",
    "    lr = 1e-2\n",
    "    train_op = tf.train.GradientDescentOptimizer(lr).minimize(loss)\n",
    "\n",
    "config = tf.ConfigProto()\n",
    "config.gpu_options.allow_growth = True\n",
    "init = tf.global_variables_initializer()"
   ]
  },
  {
   "cell_type": "code",
   "execution_count": 10,
   "metadata": {},
   "outputs": [
    {
     "name": "stdout",
     "output_type": "stream",
     "text": [
      "iteration 0 loss is :  2.5260603\n",
      "iteration 2000 loss is :  2.2669108\n",
      "iteration 4000 loss is :  2.0499022\n",
      "iteration 6000 loss is :  1.9456667\n",
      "iteration 8000 loss is :  1.88323\n"
     ]
    }
   ],
   "source": [
    "with tf.Session(config=config) as sess:\n",
    "    sess.run(init)\n",
    "    iteration = 10000\n",
    "    \n",
    "    for i in range(iteration):\n",
    "        sess.run(train_op, feed_dict={X: X_train, Y: Y_train})\n",
    "        if i % 2000 == 0:\n",
    "            print('iteration '+str(i)+' loss is : ', sess.run(loss, feed_dict={X: X_train, Y: Y_train}))\n",
    "            \n",
    "    embs=sess.run(w+b)"
   ]
  },
  {
   "cell_type": "code",
   "execution_count": 12,
   "metadata": {},
   "outputs": [
    {
     "data": {
      "text/plain": [
       "<Figure size 432x288 with 0 Axes>"
      ]
     },
     "metadata": {},
     "output_type": "display_data"
    },
    {
     "data": {
      "image/png": "[encoded data removed]",
      "text/plain": [
       "<Figure size 432x288 with 1 Axes>"
      ]
     },
     "metadata": {
      "needs_background": "light"
     },
     "output_type": "display_data"
    }
   ],
   "source": [
    "import matplotlib.pyplot as plt\n",
    "\n",
    "plt.clf()\n",
    "fig, ax = plt.subplots()\n",
    "\n",
    "for idx,emb in enumerate(embs):\n",
    "    ax.annotate(int2word[idx], emb)\n",
    "\n",
    "PADDING = 1.0\n",
    "x_axis_min = np.amin(embs, axis=0)[0] - PADDING\n",
    "y_axis_min = np.amin(embs, axis=0)[1] - PADDING\n",
    "x_axis_max = np.amax(embs, axis=0)[0] + PADDING\n",
    "y_axis_max = np.amax(embs, axis=0)[1] + PADDING\n",
    "\n",
    "plt.xlim(x_axis_min, x_axis_max)\n",
    "plt.ylim(y_axis_min, y_axis_max)\n",
    "plt.rcParams[\"figure.figsize\"] = (10, 10)\n",
    "\n",
    "plt.show()"
   ]
  },
  {
   "cell_type": "code",
   "execution_count": null,
   "metadata": {},
   "outputs": [],
   "source": []
  }
 ],
 "metadata": {
  "hide_input": false,
  "kernelspec": {
   "display_name": "Python 3",
   "language": "python",
   "name": "python3"
  },
  "language_info": {
   "codemirror_mode": {
    "name": "ipython",
    "version": 3
   },
   "file_extension": ".py",
   "mimetype": "text/x-python",
   "name": "python",
   "nbconvert_exporter": "python",
   "pygments_lexer": "ipython3",
   "version": "3.5.2"
  },
  "toc": {
   "base_numbering": 1,
   "nav_menu": {},
   "number_sections": true,
   "sideBar": true,
   "skip_h1_title": false,
   "title_cell": "Table of Contents",
   "title_sidebar": "Contents",
   "toc_cell": false,
   "toc_position": {},
   "toc_section_display": true,
   "toc_window_display": false
  }
 },
 "nbformat": 4,
 "nbformat_minor": 2
}
