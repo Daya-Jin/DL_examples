{
 "cells": [
  {
   "cell_type": "markdown",
   "metadata": {},
   "source": [
    "VanillaGAN是使用普通的DNN结构，但是在处理图像方面CNN具有明显优势，这就是DCGAN(Deep Convolutional GAN)。"
   ]
  },
  {
   "cell_type": "code",
   "execution_count": 1,
   "metadata": {},
   "outputs": [
    {
     "name": "stderr",
     "output_type": "stream",
     "text": [
      "/usr/local/lib/python3.5/dist-packages/h5py/__init__.py:36: FutureWarning: Conversion of the second argument of issubdtype from `float` to `np.floating` is deprecated. In future, it will be treated as `np.float64 == np.dtype(float).type`.\n",
      "  from ._conv import register_converters as _register_converters\n"
     ]
    }
   ],
   "source": [
    "import os\n",
    "os.sys.path.append(os.path.dirname(os.path.abspath('.')))\n",
    "from dataset.dataset import load_mnist\n",
    "\n",
    "import tensorflow as tf\n",
    "import numpy as np"
   ]
  },
  {
   "cell_type": "code",
   "execution_count": 2,
   "metadata": {},
   "outputs": [
    {
     "name": "stdout",
     "output_type": "stream",
     "text": [
      "\n",
      "WARNING: The TensorFlow contrib module will not be included in TensorFlow 2.0.\n",
      "For more information, please see:\n",
      "  * https://github.com/tensorflow/community/blob/master/rfcs/20180907-contrib-sunset.md\n",
      "  * https://github.com/tensorflow/addons\n",
      "If you depend on functionality not listed there, please file an issue.\n",
      "\n"
     ]
    },
    {
     "name": "stderr",
     "output_type": "stream",
     "text": [
      "/usr/local/lib/python3.5/dist-packages/sklearn/utils/validation.py:595: DataConversionWarning: Data with input dtype uint8 was converted to float64 by MinMaxScaler.\n",
      "  warnings.warn(msg, DataConversionWarning)\n"
     ]
    },
    {
     "name": "stdout",
     "output_type": "stream",
     "text": [
      "(60000, 784) (60000,)\n",
      "(10000, 784) (10000,)\n"
     ]
    },
    {
     "name": "stderr",
     "output_type": "stream",
     "text": [
      "/usr/local/lib/python3.5/dist-packages/sklearn/utils/validation.py:595: DataConversionWarning: Data with input dtype uint8 was converted to float64 by MinMaxScaler.\n",
      "  warnings.warn(msg, DataConversionWarning)\n"
     ]
    }
   ],
   "source": [
    "def gen_params():\n",
    "    return tf.contrib.training.HParams(\n",
    "        z_size=74,    # 隐变量维度\n",
    "        conv_size=4,\n",
    "        filters_g=[64, 1],\n",
    "        filters_d=[64, 128],\n",
    "        unit_fc=[1024,7*7*128],\n",
    "        batch_size=128,\n",
    "        lr=1e-3,\n",
    "        img_size=28,    # 图片尺寸\n",
    "    )\n",
    "\n",
    "\n",
    "params = gen_params()\n",
    "\n",
    "train_data, test_data = load_mnist(\n",
    "    batch_size=params.batch_size)    # 注意MNIST尺寸是28*28"
   ]
  },
  {
   "cell_type": "markdown",
   "metadata": {},
   "source": [
    "## 网络设计"
   ]
  },
  {
   "cell_type": "code",
   "execution_count": 3,
   "metadata": {},
   "outputs": [],
   "source": [
    "unit_I_G = params.z_size    # 生成器输入为隐变量\n",
    "unit_I_D = train_data.n_features    # 判别器输入为图片\n",
    "\n",
    "# 卷积层参数定义在params中\n",
    "\n",
    "unit_O_G = unit_I_D    # 生成器输出为图片\n",
    "unit_O_D = 1    # 判别器输出为二分类"
   ]
  },
  {
   "cell_type": "markdown",
   "metadata": {},
   "source": [
    "## 功能函数"
   ]
  },
  {
   "cell_type": "code",
   "execution_count": 4,
   "metadata": {},
   "outputs": [],
   "source": [
    "def noise_gen(n_samples, z_size):\n",
    "    '''\n",
    "    隐变量生成器\n",
    "    '''\n",
    "    return np.random.uniform(-1, 1, size=(n_samples, z_size))"
   ]
  },
  {
   "cell_type": "markdown",
   "metadata": {},
   "source": [
    "## 网络搭建"
   ]
  },
  {
   "cell_type": "code",
   "execution_count": 5,
   "metadata": {
    "scrolled": true
   },
   "outputs": [
    {
     "name": "stdout",
     "output_type": "stream",
     "text": [
      "WARNING:tensorflow:From <ipython-input-5-6074f8e2868e>:11: dense (from tensorflow.python.layers.core) is deprecated and will be removed in a future version.\n",
      "Instructions for updating:\n",
      "Use keras.layers.dense instead.\n",
      "WARNING:tensorflow:From /usr/local/lib/python3.5/dist-packages/tensorflow/python/framework/op_def_library.py:263: colocate_with (from tensorflow.python.framework.ops) is deprecated and will be removed in a future version.\n",
      "Instructions for updating:\n",
      "Colocations handled automatically by placer.\n",
      "WARNING:tensorflow:From <ipython-input-5-6074f8e2868e>:12: batch_normalization (from tensorflow.python.layers.normalization) is deprecated and will be removed in a future version.\n",
      "Instructions for updating:\n",
      "Use keras.layers.batch_normalization instead.\n",
      "WARNING:tensorflow:From <ipython-input-5-6074f8e2868e>:25: conv2d_transpose (from tensorflow.python.layers.convolutional) is deprecated and will be removed in a future version.\n",
      "Instructions for updating:\n",
      "Use keras.layers.conv2d_transpose instead.\n",
      "WARNING:tensorflow:From <ipython-input-5-6074f8e2868e>:43: conv2d (from tensorflow.python.layers.convolutional) is deprecated and will be removed in a future version.\n",
      "Instructions for updating:\n",
      "Use keras.layers.conv2d instead.\n",
      "WARNING:tensorflow:From <ipython-input-5-6074f8e2868e>:51: flatten (from tensorflow.python.layers.core) is deprecated and will be removed in a future version.\n",
      "Instructions for updating:\n",
      "Use keras.layers.flatten instead.\n",
      "WARNING:tensorflow:From /usr/local/lib/python3.5/dist-packages/tensorflow/python/ops/math_ops.py:3066: to_int32 (from tensorflow.python.ops.math_ops) is deprecated and will be removed in a future version.\n",
      "Instructions for updating:\n",
      "Use tf.cast instead.\n"
     ]
    }
   ],
   "source": [
    "tf.reset_default_graph()     # 清空图\n",
    "\n",
    "Z = tf.placeholder(tf.float32, shape=[None, unit_I_G])   # 判别器输入，即隐变量。(None,98)\n",
    "X = tf.placeholder(tf.float32, shape=[None, unit_I_D])    # 真实图片输入\n",
    "\n",
    "with tf.name_scope('GAN'):\n",
    "    def generator(z):\n",
    "        with tf.variable_scope('Generator'):\n",
    "            # (None,74) -> (None, 1024)\n",
    "            dense_1 = tf.layers.dense(z, params.unit_fc[0],\n",
    "                                      activation=tf.nn.relu)\n",
    "            dense_1 = tf.layers.batch_normalization(dense_1)\n",
    "\n",
    "            # (None,1024) -> (None,7*7*128)\n",
    "            dense_2 = tf.layers.dense(dense_1, params.unit_fc[1],\n",
    "                                      activation=tf.nn.relu)\n",
    "            dense_2 = tf.layers.batch_normalization(dense_2)\n",
    "\n",
    "            # (None,7*7*128) -> (None,7,7,128)\n",
    "            z_img = tf.reshape(dense_2, [-1, 7, 7, 128])\n",
    "\n",
    "            # (14,14,64)\n",
    "            conv_t_1 = tf.layers.conv2d_transpose(z_img,\n",
    "                                                  filters=params.filters_g[0], kernel_size=params.conv_size,\n",
    "                                                  strides=2, padding='same', activation=tf.nn.relu)\n",
    "            conv_t_1 = tf.layers.batch_normalization(conv_t_1)\n",
    "\n",
    "            # (28,28,1)\n",
    "            conv_t_2 = tf.layers.conv2d_transpose(conv_t_1,\n",
    "                                                  filters=params.filters_g[1], kernel_size=params.conv_size,\n",
    "                                                  strides=2, padding='same', activation=tf.nn.sigmoid)\n",
    "\n",
    "            img_gen = tf.reshape(conv_t_2, [-1, 784])    # (None, 784)\n",
    "            return img_gen\n",
    "\n",
    "    def discriminator(x):\n",
    "        with tf.variable_scope('Discrimator', reuse=tf.AUTO_REUSE):\n",
    "            x_img = tf.reshape(x, [-1, 28, 28, 1])\n",
    "\n",
    "            # (None,14,14,64)\n",
    "            conv_1 = tf.layers.conv2d(x_img,\n",
    "                                      filters=params.filters_d[0], kernel_size=params.conv_size,\n",
    "                                      strides=2, padding='same', activation=tf.nn.leaky_relu)\n",
    "\n",
    "            # (None,7,7,128)\n",
    "            conv_2 = tf.layers.conv2d(conv_1, filters=params.filters_d[1], kernel_size=params.conv_size,\n",
    "                                      strides=2, padding='same', activation=tf.nn.leaky_relu)\n",
    "            conv_2 = tf.layers.batch_normalization(conv_2)\n",
    "\n",
    "            # (None,7,7,128) -> (None,1024)\n",
    "            dense_1 = tf.layers.dense(tf.layers.flatten(conv_2), params.unit_fc[0],\n",
    "                                      activation=tf.nn.leaky_relu)\n",
    "\n",
    "            # (None,1)\n",
    "            logits_D = tf.layers.dense(dense_1, unit_O_D, activation=None)\n",
    "\n",
    "            return logits_D\n",
    "\n",
    "    img_fake = generator(Z)    # 生成假图像\n",
    "    logit_true = discriminator(X)    # 判别器对于真实图像的打分(None, 1)\n",
    "    logit_false = discriminator(img_fake)    # 判别器对于假图像的打分(None, 1)\n",
    "\n",
    "    vars_G = tf.get_collection(tf.GraphKeys.TRAINABLE_VARIABLES,\n",
    "                               scope='Generator')\n",
    "    vars_D = tf.get_collection(tf.GraphKeys.TRAINABLE_VARIABLES,\n",
    "                               scope='Discrimator')\n",
    "\n",
    "with tf.name_scope('Eval'):\n",
    "    #     # LSGAN\n",
    "    #     loss_D=tf.reduce_mean(0.5*tf.square(logit_true-1)+0.5*tf.square(logit_false))\n",
    "    #     loss_G=tf.reduce_mean(0.5*tf.square(logit_false-1))\n",
    "\n",
    "    #     # GAN\n",
    "    #     loss_D = tf.reduce_mean(tf.nn.sigmoid_cross_entropy_with_logits(\n",
    "    #         logits=logit_true,\n",
    "    #         labels=tf.ones_like(logit_true)) +\n",
    "    #         tf.nn.sigmoid_cross_entropy_with_logits(\n",
    "    #             logits=logit_false,\n",
    "    #             labels=tf.zeros_like(logit_false)))\n",
    "    #     loss_G = tf.reduce_mean(tf.nn.sigmoid_cross_entropy_with_logits(\n",
    "    #         logits=logit_false,\n",
    "    #         labels=tf.ones_like(logit_false)))\n",
    "\n",
    "    # WGAN\n",
    "    n_batch = tf.placeholder(tf.int32, ())    # 实际传入batch_size的大小\n",
    "    loss_D = -(tf.reduce_mean(logit_true)-tf.reduce_mean(logit_false))\n",
    "    loss_G = -tf.reduce_mean(logit_false)\n",
    "    lam = 10\n",
    "\n",
    "    eps = tf.random_uniform(shape=[n_batch, 1], minval=0, maxval=1)\n",
    "    x_hat = X*eps+(1-eps)*img_fake\n",
    "\n",
    "    with tf.variable_scope('', reuse=True) as scope:\n",
    "        grad_D_x_hat = tf.gradients(discriminator(x_hat), x_hat)\n",
    "\n",
    "    grad_norm = tf.norm(grad_D_x_hat)\n",
    "    grad_pen = lam*tf.square(grad_norm-1)\n",
    "    loss_D += grad_pen\n",
    "\n",
    "\n",
    "with tf.name_scope('train_op'):\n",
    "    train_op_G = tf.train.AdamOptimizer(params.lr) \\\n",
    "        .minimize(loss_G, var_list=vars_G)\n",
    "    train_op_D = tf.train.AdamOptimizer(params.lr) \\\n",
    "        .minimize(loss_D, var_list=vars_D)\n",
    "\n",
    "\n",
    "def get_sess():\n",
    "    init = tf.global_variables_initializer()\n",
    "    config = tf.ConfigProto()\n",
    "    config.gpu_options.allow_growth = True    # 按需使用显存\n",
    "    sess = tf.Session(config=config)\n",
    "    sess.run(init)\n",
    "    return sess"
   ]
  },
  {
   "cell_type": "markdown",
   "metadata": {},
   "source": [
    "## 训练网络"
   ]
  },
  {
   "cell_type": "code",
   "execution_count": 6,
   "metadata": {
    "scrolled": false
   },
   "outputs": [
    {
     "name": "stdout",
     "output_type": "stream",
     "text": [
      "epoch: 3, batch_loss_D: -0.3086276650428772, batch_loss_G: 0.549034595489502\n",
      "epoch: 5, batch_loss_D: -0.25366201996803284, batch_loss_G: 0.747999370098114\n",
      "epoch: 7, batch_loss_D: -0.07083472609519958, batch_loss_G: 0.45459920167922974\n",
      "epoch: 9, batch_loss_D: -0.09367817640304565, batch_loss_G: -2.914853572845459\n",
      "epoch: 11, batch_loss_D: 0.03448810055851936, batch_loss_G: 3.740757703781128\n",
      "epoch: 13, batch_loss_D: 0.013397288508713245, batch_loss_G: 0.9908500909805298\n",
      "epoch: 15, batch_loss_D: -0.05217839032411575, batch_loss_G: 0.3781539797782898\n",
      "epoch: 18, batch_loss_D: -0.020503949373960495, batch_loss_G: 1.4878742694854736\n",
      "epoch: 20, batch_loss_D: -0.08793406188488007, batch_loss_G: -0.9399019479751587\n"
     ]
    }
   ],
   "source": [
    "sess = get_sess()\n",
    "epochs = 20\n",
    "\n",
    "batch_cnt = 0\n",
    "\n",
    "for epoch in range(epochs):\n",
    "    for batch_data, _ in train_data.next_batch():\n",
    "        batch_cnt += 1\n",
    "\n",
    "        img_gen, loss_val_G, _ = sess.run([img_fake, loss_G, train_op_G],\n",
    "                                          feed_dict={Z: noise_gen(len(batch_data), unit_I_G),\n",
    "                                                     n_batch: len(batch_data)})\n",
    "\n",
    "        loss_val_D, _ = sess.run([loss_D, train_op_D],\n",
    "                                 feed_dict={X: batch_data,\n",
    "                                            Z: noise_gen(len(batch_data), unit_I_G),\n",
    "                                            n_batch: len(batch_data)})\n",
    "\n",
    "        # 每1000batch输出一次信息\n",
    "        if (batch_cnt+1) % 1000 == 0:\n",
    "            print('epoch: {}, batch_loss_D: {}, batch_loss_G: {}'\n",
    "                  .format(epoch+1, loss_val_D, loss_val_G))"
   ]
  },
  {
   "cell_type": "code",
   "execution_count": 11,
   "metadata": {
    "scrolled": true
   },
   "outputs": [
    {
     "data": {
      "text/plain": [
       "<Figure size 432x288 with 0 Axes>"
      ]
     },
     "metadata": {},
     "output_type": "display_data"
    },
    {
     "data": {
      "image/png": "[encoded data removed]",
      "text/plain": [
       "<Figure size 360x360 with 1 Axes>"
      ]
     },
     "metadata": {
      "needs_background": "light"
     },
     "output_type": "display_data"
    }
   ],
   "source": [
    "# 生成不同范围的二维输入，生成图片\n",
    "import matplotlib.pyplot as plt\n",
    "n = 5\n",
    "x_axis = np.linspace(-1, 1, n)\n",
    "y_axis = np.linspace(-1, 1, n)\n",
    "canvas = np.empty((28 * n, 28 * n))    # 画布，不同区域填充不同的图片\n",
    "\n",
    "for i, yi in enumerate(x_axis):\n",
    "    for j, xi in enumerate(y_axis):\n",
    "        x_mean = sess.run(img_fake, feed_dict={Z: noise_gen(1, unit_I_G)})\n",
    "        canvas[(n - i - 1) * 28:(n - i) * 28, j *\n",
    "               28:(j + 1) * 28] = x_mean[0].reshape(28, 28)\n",
    "\n",
    "\n",
    "plt.clf()\n",
    "plt.figure(figsize=(5, 5))\n",
    "plt.imshow(canvas, cmap='gray')\n",
    "plt.show()"
   ]
  },
  {
   "cell_type": "code",
   "execution_count": null,
   "metadata": {},
   "outputs": [],
   "source": []
  }
 ],
 "metadata": {
  "kernelspec": {
   "display_name": "Python 3",
   "language": "python",
   "name": "python3"
  },
  "language_info": {
   "codemirror_mode": {
    "name": "ipython",
    "version": 3
   },
   "file_extension": ".py",
   "mimetype": "text/x-python",
   "name": "python",
   "nbconvert_exporter": "python",
   "pygments_lexer": "ipython3",
   "version": "3.5.2"
  }
 },
 "nbformat": 4,
 "nbformat_minor": 2
}
