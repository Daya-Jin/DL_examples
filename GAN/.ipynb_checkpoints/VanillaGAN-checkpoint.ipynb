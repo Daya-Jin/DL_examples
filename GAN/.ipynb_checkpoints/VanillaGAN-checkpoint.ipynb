{
 "cells": [
  {
   "cell_type": "code",
   "execution_count": 1,
   "metadata": {},
   "outputs": [
    {
     "name": "stderr",
     "output_type": "stream",
     "text": [
      "/usr/local/lib/python3.5/dist-packages/h5py/__init__.py:36: FutureWarning: Conversion of the second argument of issubdtype from `float` to `np.floating` is deprecated. In future, it will be treated as `np.float64 == np.dtype(float).type`.\n",
      "  from ._conv import register_converters as _register_converters\n"
     ]
    }
   ],
   "source": [
    "import os\n",
    "os.sys.path.append(os.path.dirname(os.path.abspath('.')))\n",
    "from dataset.dataset import load_mnist\n",
    "\n",
    "import tensorflow as tf\n",
    "import numpy as np"
   ]
  },
  {
   "cell_type": "code",
   "execution_count": 2,
   "metadata": {},
   "outputs": [
    {
     "name": "stdout",
     "output_type": "stream",
     "text": [
      "\n",
      "WARNING: The TensorFlow contrib module will not be included in TensorFlow 2.0.\n",
      "For more information, please see:\n",
      "  * https://github.com/tensorflow/community/blob/master/rfcs/20180907-contrib-sunset.md\n",
      "  * https://github.com/tensorflow/addons\n",
      "If you depend on functionality not listed there, please file an issue.\n",
      "\n"
     ]
    },
    {
     "name": "stderr",
     "output_type": "stream",
     "text": [
      "/usr/local/lib/python3.5/dist-packages/sklearn/utils/validation.py:595: DataConversionWarning: Data with input dtype uint8 was converted to float64 by MinMaxScaler.\n",
      "  warnings.warn(msg, DataConversionWarning)\n"
     ]
    },
    {
     "name": "stdout",
     "output_type": "stream",
     "text": [
      "(60000, 784) (60000,)\n",
      "(10000, 784) (10000,)\n"
     ]
    },
    {
     "name": "stderr",
     "output_type": "stream",
     "text": [
      "/usr/local/lib/python3.5/dist-packages/sklearn/utils/validation.py:595: DataConversionWarning: Data with input dtype uint8 was converted to float64 by MinMaxScaler.\n",
      "  warnings.warn(msg, DataConversionWarning)\n"
     ]
    }
   ],
   "source": [
    "def gen_params():\n",
    "    return tf.contrib.training.HParams(\n",
    "        z_size=100,    # 隐变量维度\n",
    "        batch_size=128,\n",
    "        lr=1e-3\n",
    "    )\n",
    "\n",
    "params=gen_params()\n",
    "\n",
    "train_data,test_data=load_mnist(batch_size=params.batch_size)    # 注意MNIST尺寸是28*28"
   ]
  },
  {
   "cell_type": "markdown",
   "metadata": {},
   "source": [
    "## 网络设计"
   ]
  },
  {
   "cell_type": "code",
   "execution_count": 3,
   "metadata": {},
   "outputs": [],
   "source": [
    "unit_I_G = params.z_size    # 生成器输入为隐变量\n",
    "unit_I_D = train_data.n_features    # 判别器输入为图片\n",
    "\n",
    "unit_h = 256    # 隐含层\n",
    "\n",
    "unit_O_G = unit_I_D    # 生成器输出为图片\n",
    "unit_O_D = 1    # 判别器输出为二分类"
   ]
  },
  {
   "cell_type": "markdown",
   "metadata": {},
   "source": [
    "## 功能函数"
   ]
  },
  {
   "cell_type": "code",
   "execution_count": 4,
   "metadata": {},
   "outputs": [],
   "source": [
    "def noise_gen(n_samples, z_size):\n",
    "    '''\n",
    "    隐变量生成器\n",
    "    '''\n",
    "    return np.random.uniform(-1, 1, size=(n_samples, z_size))"
   ]
  },
  {
   "cell_type": "markdown",
   "metadata": {},
   "source": [
    "## 网络搭建"
   ]
  },
  {
   "cell_type": "code",
   "execution_count": 33,
   "metadata": {},
   "outputs": [],
   "source": [
    "tf.reset_default_graph()     # 清空图\n",
    "\n",
    "Z = tf.placeholder(tf.float32, shape=[None, unit_I_G])   # 判别器输入，即隐变量\n",
    "X = tf.placeholder(tf.float32, shape=[None, unit_I_D])    # 真实图片输入"
   ]
  },
  {
   "cell_type": "code",
   "execution_count": null,
   "metadata": {},
   "outputs": [],
   "source": [
    "with tf.name_scope('GAN'):\n",
    "    def generator(z):\n",
    "        '''\n",
    "        生成器，用于生成伪造数据\n",
    "        z: 隐变量\n",
    "        返回伪造的图片\n",
    "        '''\n",
    "        with tf.variable_scope('Generator'):\n",
    "            hidden_layer_G = tf.layers.dense(z, unit_h,\n",
    "                                             activation=tf.nn.leaky_relu)\n",
    "            img_gen = tf.layers.dense(hidden_layer_G, unit_O_G,\n",
    "                                      activation=tf.nn.sigmoid)\n",
    "            return img_gen\n",
    "\n",
    "    def discriminator(x):\n",
    "        '''\n",
    "        判别器，其接收两套输入，参数需要重用\n",
    "        x: 数据\n",
    "        返回对数据的判别分数\n",
    "        '''\n",
    "        with tf.variable_scope('Discrimator', reuse=tf.AUTO_REUSE):\n",
    "            hidden_layer_D = tf.layers.dense(x, unit_h,\n",
    "                                             activation=tf.nn.leaky_relu)\n",
    "            logits_D = tf.layers.dense(hidden_layer_D, unit_O_D,\n",
    "                                       activation=None)\n",
    "            return logits_D\n",
    "\n",
    "    img_fake = generator(Z)    # 生成假图像\n",
    "    logit_real = discriminator(X)    # 判别器对于真实图像的打分(None, 1)\n",
    "    logit_fake = discriminator(img_fake)    # 判别器对于假图像的打分(None, 1)\n",
    "\n",
    "    vars_G = tf.get_collection(tf.GraphKeys.TRAINABLE_VARIABLES,\n",
    "                               scope='Generator')\n",
    "    vars_D = tf.get_collection(tf.GraphKeys.TRAINABLE_VARIABLES,\n",
    "                               scope='Discrimator')"
   ]
  },
  {
   "cell_type": "code",
   "execution_count": 5,
   "metadata": {
    "scrolled": true
   },
   "outputs": [
    {
     "name": "stdout",
     "output_type": "stream",
     "text": [
      "WARNING:tensorflow:From <ipython-input-5-726d66dc49ce>:10: dense (from tensorflow.python.layers.core) is deprecated and will be removed in a future version.\n",
      "Instructions for updating:\n",
      "Use keras.layers.dense instead.\n",
      "WARNING:tensorflow:From /usr/local/lib/python3.5/dist-packages/tensorflow/python/framework/op_def_library.py:263: colocate_with (from tensorflow.python.framework.ops) is deprecated and will be removed in a future version.\n",
      "Instructions for updating:\n",
      "Colocations handled automatically by placer.\n"
     ]
    }
   ],
   "source": [
    "with tf.name_scope('Eval'):\n",
    "    # 这里稍微修改了VanillaGAN的损失函数\n",
    "    loss_D = tf.reduce_mean(tf.nn.sigmoid_cross_entropy_with_logits(\n",
    "        logits=logit_real,\n",
    "        labels=tf.ones_like(logit_real)) +\n",
    "        tf.nn.sigmoid_cross_entropy_with_logits(\n",
    "            logits=logit_fake,\n",
    "            labels=tf.zeros_like(logit_fake)))\n",
    "    loss_G = tf.reduce_mean(tf.nn.sigmoid_cross_entropy_with_logits(\n",
    "        logits=logit_fake,\n",
    "        labels=tf.ones_like(logit_fake)))\n",
    "\n",
    "with tf.name_scope('train_op'):\n",
    "    train_op_G = tf.train.AdamOptimizer(params.lr) \\\n",
    "        .minimize(loss_G, var_list=vars_G)\n",
    "    train_op_D = tf.train.AdamOptimizer(params.lr) \\\n",
    "        .minimize(loss_D, var_list=vars_D)\n",
    "\n",
    "\n",
    "def get_sess():\n",
    "    init = tf.global_variables_initializer()\n",
    "    config = tf.ConfigProto()\n",
    "    config.gpu_options.allow_growth = True    # 按需使用显存\n",
    "    sess = tf.Session(config=config)\n",
    "    sess.run(init)\n",
    "    return sess"
   ]
  },
  {
   "cell_type": "markdown",
   "metadata": {},
   "source": [
    "## 训练网络"
   ]
  },
  {
   "cell_type": "code",
   "execution_count": 6,
   "metadata": {
    "scrolled": true
   },
   "outputs": [
    {
     "name": "stdout",
     "output_type": "stream",
     "text": [
      "epoch: 3, batch_loss_D: 0.013341275043785572, batch_loss_G: 8.079753875732422\n",
      "epoch: 5, batch_loss_D: 0.0714440792798996, batch_loss_G: 7.159387588500977\n",
      "epoch: 7, batch_loss_D: 0.07087362557649612, batch_loss_G: 5.00454044342041\n",
      "epoch: 9, batch_loss_D: 0.23719283938407898, batch_loss_G: 4.534101486206055\n",
      "epoch: 11, batch_loss_D: 0.22911125421524048, batch_loss_G: 4.333502769470215\n",
      "epoch: 13, batch_loss_D: 0.2831006348133087, batch_loss_G: 3.5485315322875977\n",
      "epoch: 15, batch_loss_D: 0.3772451877593994, batch_loss_G: 3.2124462127685547\n",
      "epoch: 18, batch_loss_D: 0.32349157333374023, batch_loss_G: 3.6719970703125\n",
      "epoch: 20, batch_loss_D: 0.3813501000404358, batch_loss_G: 3.560455799102783\n",
      "epoch: 22, batch_loss_D: 0.47473835945129395, batch_loss_G: 2.5338172912597656\n",
      "epoch: 24, batch_loss_D: 0.408947229385376, batch_loss_G: 2.983705997467041\n",
      "epoch: 26, batch_loss_D: 0.45593810081481934, batch_loss_G: 3.096835136413574\n",
      "epoch: 28, batch_loss_D: 0.42863065004348755, batch_loss_G: 2.949490547180176\n",
      "epoch: 30, batch_loss_D: 0.33945101499557495, batch_loss_G: 2.778353214263916\n",
      "epoch: 33, batch_loss_D: 0.4027353525161743, batch_loss_G: 3.1348986625671387\n",
      "epoch: 35, batch_loss_D: 0.5501617193222046, batch_loss_G: 2.8215527534484863\n",
      "epoch: 37, batch_loss_D: 0.5896623134613037, batch_loss_G: 2.873906135559082\n",
      "epoch: 39, batch_loss_D: 0.4304981827735901, batch_loss_G: 2.9501304626464844\n",
      "epoch: 41, batch_loss_D: 0.45652633905410767, batch_loss_G: 2.5906994342803955\n",
      "epoch: 43, batch_loss_D: 0.5949323177337646, batch_loss_G: 3.5701494216918945\n",
      "epoch: 45, batch_loss_D: 0.6868077516555786, batch_loss_G: 3.050865411758423\n",
      "epoch: 48, batch_loss_D: 0.5224987864494324, batch_loss_G: 2.9125382900238037\n",
      "epoch: 50, batch_loss_D: 0.503083348274231, batch_loss_G: 2.471885919570923\n"
     ]
    }
   ],
   "source": [
    "sess = get_sess()\n",
    "epochs = 50\n",
    "\n",
    "batch_cnt = 0\n",
    "for epoch in range(epochs):\n",
    "    for batch_data, _ in train_data.next_batch():\n",
    "        batch_cnt += 1\n",
    "        img_gen, loss_val_G, _ = sess.run([img_fake, loss_G, train_op_G],\n",
    "                                          feed_dict={Z: noise_gen(len(batch_data), unit_I_G)})\n",
    "        loss_val_D, _ = sess.run([loss_D, train_op_D],\n",
    "                                 feed_dict={X: batch_data,\n",
    "                                            Z: noise_gen(len(batch_data), unit_I_G)})\n",
    "\n",
    "        # 每1000batch输出一次信息\n",
    "        if (batch_cnt+1) % 1000 == 0:\n",
    "            print('epoch: {}, batch_loss_D: {}, batch_loss_G: {}'\n",
    "                  .format(epoch+1, loss_val_D, loss_val_G))"
   ]
  },
  {
   "cell_type": "code",
   "execution_count": 32,
   "metadata": {
    "scrolled": false
   },
   "outputs": [
    {
     "data": {
      "text/plain": [
       "<Figure size 432x288 with 0 Axes>"
      ]
     },
     "metadata": {},
     "output_type": "display_data"
    },
    {
     "data": {
      "image/png": "[encoded data removed]",
      "text/plain": [
       "<Figure size 360x360 with 1 Axes>"
      ]
     },
     "metadata": {
      "needs_background": "light"
     },
     "output_type": "display_data"
    }
   ],
   "source": [
    "# 生成不同范围的二维输入，生成图片\n",
    "n = 5\n",
    "x_axis = np.linspace(-1, 1, n)\n",
    "y_axis = np.linspace(-1, 1, n)\n",
    "canvas = np.empty((28 * n, 28 * n))    # 画布，不同区域填充不同的图片\n",
    "\n",
    "for i, yi in enumerate(x_axis):\n",
    "    for j, xi in enumerate(y_axis):\n",
    "        x_mean = sess.run(img_fake,feed_dict={Z:noise_gen(1,unit_I_G)})\n",
    "        canvas[(n - i - 1) * 28:(n - i) * 28, j *\n",
    "               28:(j + 1) * 28] = x_mean[0].reshape(28, 28)\n",
    "\n",
    "import matplotlib.pyplot as plt\n",
    "\n",
    "plt.clf()\n",
    "plt.figure(figsize=(5, 5))\n",
    "plt.imshow(canvas, cmap='gray')\n",
    "plt.show()"
   ]
  },
  {
   "cell_type": "code",
   "execution_count": 9,
   "metadata": {},
   "outputs": [],
   "source": [
    "sess.close()"
   ]
  }
 ],
 "metadata": {
  "kernelspec": {
   "display_name": "Python 3",
   "language": "python",
   "name": "python3"
  },
  "language_info": {
   "codemirror_mode": {
    "name": "ipython",
    "version": 3
   },
   "file_extension": ".py",
   "mimetype": "text/x-python",
   "name": "python",
   "nbconvert_exporter": "python",
   "pygments_lexer": "ipython3",
   "version": "3.5.2"
  }
 },
 "nbformat": 4,
 "nbformat_minor": 2
}
