{
 "cells": [
  {
   "cell_type": "code",
   "execution_count": 1,
   "metadata": {},
   "outputs": [],
   "source": [
    "import tensorflow as tf\n",
    "import numpy as np"
   ]
  },
  {
   "cell_type": "code",
   "execution_count": 2,
   "metadata": {},
   "outputs": [],
   "source": [
    "class FMLayer(tf.keras.layers.Layer):\n",
    "    '''\n",
    "    自定义FM层\n",
    "    '''\n",
    "    def __init__(self,k):\n",
    "        super(FMLayer,self).__init__()\n",
    "        \n",
    "        self.linear_part=tf.keras.layers.Dense(1,activation=None)\n",
    "\n",
    "        self.k=k\n",
    "    \n",
    "    def build(self,input_shape):\n",
    "        '''\n",
    "        input_shape为tf自动获取\n",
    "        '''\n",
    "        # 矩阵V的形状为(n_features, k)\n",
    "        self.v=self.add_weight(shape=(input_shape[-1],self.k),initializer=tf.random_normal_initializer(), trainable=True)\n",
    "    \n",
    "    def call(self,inputs):\n",
    "        linear=self.linear_part(inputs)\n",
    "        \n",
    "        wide=0.5*tf.reduce_sum(tf.pow(tf.matmul(inputs,self.v),2)-\n",
    "                                   tf.matmul(tf.pow(inputs,2),tf.pow(self.v,2)),\n",
    "                                    axis=1,keepdims=True)\n",
    "        return linear+wide\n",
    "\n",
    "class FactorizationMachine(tf.keras.Model):\n",
    "    def __init__(self,k):\n",
    "        super(FactorizationMachine,self).__init__()\n",
    "        \n",
    "        self.fm_layer=FMLayer(k)\n",
    "        \n",
    "    def call(self,inputs):\n",
    "        return self.fm_layer(inputs)"
   ]
  },
  {
   "cell_type": "code",
   "execution_count": 3,
   "metadata": {},
   "outputs": [],
   "source": [
    "x_data = np.matrix([\n",
    "#    Users  |     Movies     |    Movie Ratings   | Time | Last Movies Rated\n",
    "#   A  B  C | TI  NH  SW  ST | TI   NH   SW   ST  |      | TI  NH  SW  ST\n",
    "    [1, 0, 0,  1,  0,  0,  0,   0.3, 0.3, 0.3, 0,     13,   0,  0,  0,  0 ],\n",
    "    [1, 0, 0,  0,  1,  0,  0,   0.3, 0.3, 0.3, 0,     14,   1,  0,  0,  0 ],\n",
    "    [1, 0, 0,  0,  0,  1,  0,   0.3, 0.3, 0.3, 0,     16,   0,  1,  0,  0 ],\n",
    "    [0, 1, 0,  0,  0,  1,  0,   0,   0,   0.5, 0.5,   5,    0,  0,  0,  0 ],\n",
    "    [0, 1, 0,  0,  0,  0,  1,   0,   0,   0.5, 0.5,   8,    0,  0,  1,  0 ],\n",
    "    [0, 0, 1,  1,  0,  0,  0,   0.5, 0,   0.5, 0,     9,    0,  0,  0,  0 ],\n",
    "    [0, 0, 1,  0,  0,  1,  0,   0.5, 0,   0.5, 0,     12,   1,  0,  0,  0 ]\n",
    "])\n",
    "# ratings\n",
    "y_data = np.array([5, 3, 1, 4, 5, 1, 5])\n",
    "\n",
    "# Let's add an axis to make tensoflow happy.\n",
    "y_data.shape += (1, )"
   ]
  },
  {
   "cell_type": "code",
   "execution_count": 4,
   "metadata": {},
   "outputs": [
    {
     "name": "stdout",
     "output_type": "stream",
     "text": [
      "Epoch 1/5\n",
      "1/1 [==============================] - 0s 1ms/step - loss: 5.8485\n",
      "Epoch 2/5\n",
      "1/1 [==============================] - 0s 0s/step - loss: 5.1890\n",
      "Epoch 3/5\n",
      "1/1 [==============================] - 0s 1ms/step - loss: 4.6709\n",
      "Epoch 4/5\n",
      "1/1 [==============================] - 0s 1ms/step - loss: 4.2156\n",
      "Epoch 5/5\n",
      "1/1 [==============================] - 0s 1ms/step - loss: 3.8064\n"
     ]
    }
   ],
   "source": [
    "fm=FactorizationMachine(5)\n",
    "\n",
    "optimizer=tf.keras.optimizers.Adam(learning_rate=0.01)\n",
    "\n",
    "fm.compile(optimizer=optimizer,loss=tf.keras.losses.MeanSquaredError())\n",
    "\n",
    "hist=fm.fit(x_data,y_data,epochs=5)"
   ]
  },
  {
   "cell_type": "code",
   "execution_count": 5,
   "metadata": {},
   "outputs": [
    {
     "data": {
      "text/plain": [
       "array([[3.4668858],\n",
       "       [3.652246 ],\n",
       "       [4.41393  ],\n",
       "       [2.1322427],\n",
       "       [3.3418107],\n",
       "       [2.2920125],\n",
       "       [3.6451492]], dtype=float32)"
      ]
     },
     "execution_count": 5,
     "metadata": {},
     "output_type": "execute_result"
    }
   ],
   "source": [
    "fm.predict(x_data)"
   ]
  },
  {
   "cell_type": "code",
   "execution_count": null,
   "metadata": {},
   "outputs": [],
   "source": []
  }
 ],
 "metadata": {
  "kernelspec": {
   "display_name": "Python 3",
   "language": "python",
   "name": "python3"
  },
  "language_info": {
   "codemirror_mode": {
    "name": "ipython",
    "version": 3
   },
   "file_extension": ".py",
   "mimetype": "text/x-python",
   "name": "python",
   "nbconvert_exporter": "python",
   "pygments_lexer": "ipython3",
   "version": "3.8.6"
  }
 },
 "nbformat": 4,
 "nbformat_minor": 4
}
