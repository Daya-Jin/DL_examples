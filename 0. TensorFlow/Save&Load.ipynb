{
 "cells": [
  {
   "cell_type": "code",
   "execution_count": 1,
   "metadata": {},
   "outputs": [],
   "source": [
    "import os\n",
    "os.sys.path.append(os.path.dirname(os.path.abspath('.')))"
   ]
  },
  {
   "cell_type": "markdown",
   "metadata": {},
   "source": [
    "模型的保存与恢复。这里同样先构建好计算图，模型的保存代码写在训练过程中。"
   ]
  },
  {
   "cell_type": "code",
   "execution_count": 2,
   "metadata": {
    "scrolled": true
   },
   "outputs": [
    {
     "name": "stderr",
     "output_type": "stream",
     "text": [
      "/usr/local/lib/python3.5/dist-packages/h5py/__init__.py:36: FutureWarning: Conversion of the second argument of issubdtype from `float` to `np.floating` is deprecated. In future, it will be treated as `np.float64 == np.dtype(float).type`.\n",
      "  from ._conv import register_converters as _register_converters\n",
      "/usr/local/lib/python3.5/dist-packages/sklearn/utils/validation.py:595: DataConversionWarning: Data with input dtype uint8 was converted to float64 by StandardScaler.\n",
      "  warnings.warn(msg, DataConversionWarning)\n",
      "/usr/local/lib/python3.5/dist-packages/sklearn/utils/validation.py:595: DataConversionWarning: Data with input dtype uint8 was converted to float64 by StandardScaler.\n",
      "  warnings.warn(msg, DataConversionWarning)\n"
     ]
    },
    {
     "name": "stdout",
     "output_type": "stream",
     "text": [
      "(50000, 3072) (50000,)\n"
     ]
    },
    {
     "name": "stderr",
     "output_type": "stream",
     "text": [
      "/usr/local/lib/python3.5/dist-packages/sklearn/utils/validation.py:595: DataConversionWarning: Data with input dtype uint8 was converted to float64 by StandardScaler.\n",
      "  warnings.warn(msg, DataConversionWarning)\n"
     ]
    },
    {
     "name": "stdout",
     "output_type": "stream",
     "text": [
      "(10000, 3072) (10000,)\n",
      "WARNING:tensorflow:From <ipython-input-2-028769a41191>:25: conv2d (from tensorflow.python.layers.convolutional) is deprecated and will be removed in a future version.\n",
      "Instructions for updating:\n",
      "Use keras.layers.conv2d instead.\n",
      "WARNING:tensorflow:From /usr/local/lib/python3.5/dist-packages/tensorflow/python/framework/op_def_library.py:263: colocate_with (from tensorflow.python.framework.ops) is deprecated and will be removed in a future version.\n",
      "Instructions for updating:\n",
      "Colocations handled automatically by placer.\n",
      "WARNING:tensorflow:From <ipython-input-2-028769a41191>:27: max_pooling2d (from tensorflow.python.layers.pooling) is deprecated and will be removed in a future version.\n",
      "Instructions for updating:\n",
      "Use keras.layers.max_pooling2d instead.\n",
      "WARNING:tensorflow:From <ipython-input-2-028769a41191>:39: flatten (from tensorflow.python.layers.core) is deprecated and will be removed in a future version.\n",
      "Instructions for updating:\n",
      "Use keras.layers.flatten instead.\n",
      "WARNING:tensorflow:From <ipython-input-2-028769a41191>:39: dense (from tensorflow.python.layers.core) is deprecated and will be removed in a future version.\n",
      "Instructions for updating:\n",
      "Use keras.layers.dense instead.\n"
     ]
    },
    {
     "name": "stderr",
     "output_type": "stream",
     "text": [
      "/usr/local/lib/python3.5/dist-packages/sklearn/utils/validation.py:595: DataConversionWarning: Data with input dtype uint8 was converted to float64 by StandardScaler.\n",
      "  warnings.warn(msg, DataConversionWarning)\n"
     ]
    },
    {
     "name": "stdout",
     "output_type": "stream",
     "text": [
      "WARNING:tensorflow:From /usr/local/lib/python3.5/dist-packages/tensorflow/python/ops/losses/losses_impl.py:209: to_float (from tensorflow.python.ops.math_ops) is deprecated and will be removed in a future version.\n",
      "Instructions for updating:\n",
      "Use tf.cast instead.\n"
     ]
    }
   ],
   "source": [
    "import tensorflow as tf\n",
    "from dataset.dataset import load_cifar10\n",
    "\n",
    "\n",
    "train_data, test_data = load_cifar10(batch_size=64)\n",
    "\n",
    "unit_I = train_data.n_features\n",
    "\n",
    "filters = 32\n",
    "conv_size = (3, 3)\n",
    "\n",
    "pool_size = (2, 2)\n",
    "strides = (2, 2)\n",
    "\n",
    "unit_O = 10\n",
    "\n",
    "X = tf.placeholder(tf.float32, [None, unit_I])\n",
    "Y = tf.placeholder(tf.int64, [None])\n",
    "X_img = tf.transpose(tf.reshape(X, [-1, 3, 32, 32]),\n",
    "                     perm=[0, 2, 3, 1])\n",
    "\n",
    "with tf.name_scope('CNN'):\n",
    "    conv1 = tf.layers.conv2d(X_img, filters=filters,\n",
    "                             kernel_size=conv_size, padding='same',\n",
    "                             activation=tf.nn.relu, name='conv1')\n",
    "    pooling1 = tf.layers.max_pooling2d(conv1, pool_size=pool_size,\n",
    "                                       strides=strides, name='pooling1')\n",
    "    conv2 = tf.layers.conv2d(pooling1, filters=filters,\n",
    "                             kernel_size=conv_size, padding='same',\n",
    "                             activation=tf.nn.relu, name='conv2')\n",
    "    pooling2 = tf.layers.max_pooling2d(conv2, pool_size=pool_size,\n",
    "                                       strides=strides, name='pooling2')\n",
    "    conv3 = tf.layers.conv2d(pooling2, filters=filters,\n",
    "                             kernel_size=conv_size, padding='same',\n",
    "                             activation=tf.nn.relu, name='conv3')\n",
    "    pooling3 = tf.layers.max_pooling2d(conv3, pool_size=pool_size,\n",
    "                                       strides=strides, name='pooling3')\n",
    "    logits = tf.layers.dense(tf.layers.flatten(\n",
    "        pooling3), unit_O, activation=None)\n",
    "\n",
    "with tf.name_scope('Eval'):\n",
    "    loss = tf.losses.sparse_softmax_cross_entropy(labels=Y, logits=logits)\n",
    "    predict = tf.argmax(logits, 1)\n",
    "    accuracy = tf.reduce_mean(tf.cast(tf.equal(predict, Y), tf.float32))\n",
    "\n",
    "with tf.name_scope('train_op'):\n",
    "    lr = 1e-3\n",
    "    train_op = tf.train.AdamOptimizer(lr).minimize(loss)\n",
    "\n",
    "init = tf.global_variables_initializer()\n",
    "config = tf.ConfigProto()\n",
    "config.gpu_options.allow_growth = True"
   ]
  },
  {
   "cell_type": "markdown",
   "metadata": {},
   "source": [
    "指定模型保存的目录：："
   ]
  },
  {
   "cell_type": "code",
   "execution_count": 3,
   "metadata": {},
   "outputs": [],
   "source": [
    "CUR_DIR = '.'\n",
    "save_dir = os.path.join(CUR_DIR, 'model')\n",
    "if not os.path.exists(save_dir):\n",
    "    os.makedirs(save_dir)\n",
    "\n",
    "saved_model = 'ckp-16'    # 当存在第16个epoch检查点时"
   ]
  },
  {
   "cell_type": "markdown",
   "metadata": {},
   "source": [
    "在训练代码中加入saver，为了模拟训练过程的断点与恢复，当训练进行到第16个epoch之后时手动终止程序，然后再运行一边程序查看输出。"
   ]
  },
  {
   "cell_type": "code",
   "execution_count": 4,
   "metadata": {
    "scrolled": true
   },
   "outputs": [
    {
     "name": "stdout",
     "output_type": "stream",
     "text": [
      "WARNING:tensorflow:From /usr/local/lib/python3.5/dist-packages/tensorflow/python/training/saver.py:1266: checkpoint_exists (from tensorflow.python.training.checkpoint_management) is deprecated and will be removed in a future version.\n",
      "Instructions for updating:\n",
      "Use standard file APIs to check for files with this prefix.\n",
      "INFO:tensorflow:Restoring parameters from ./model/ckp-16\n",
      "restore from ckp-16\n",
      "model saved to ckp-16\n",
      "model saved to ckp-17\n",
      "model saved to ckp-17\n",
      "model saved to ckp-18\n",
      "model saved to ckp-19\n",
      "model saved to ckp-19\n",
      "model saved to ckp-20\n",
      "model saved to ckp-20\n",
      "training done.\n"
     ]
    }
   ],
   "source": [
    "with tf.Session(config=config) as sess:\n",
    "    sess.run(init)\n",
    "    epochs = 20\n",
    "\n",
    "    # 创建saver\n",
    "    saver = tf.train.Saver()\n",
    "\n",
    "    model_path = os.path.join(save_dir, saved_model)\n",
    "    if os.path.exists(model_path+'.index'):    # 如果指定的检查点存在\n",
    "        saver.restore(sess, model_path)\n",
    "        print('restore from {}'.format(saved_model))\n",
    "        trained_epoch = 15    # 已完成的训练轮次\n",
    "    else:\n",
    "        trained_epoch = 0\n",
    "\n",
    "    batch_cnt = 0\n",
    "    for epoch in range(epochs-trained_epoch):\n",
    "        for batch_data, batch_labels in train_data.next_batch():\n",
    "            loss_val, acc_val, _ = sess.run([loss, accuracy, train_op],\n",
    "                                            feed_dict={X: batch_data,\n",
    "                                                       Y: batch_labels})\n",
    "            batch_cnt += 1\n",
    "\n",
    "            # 每1000个batch保存一次模型\n",
    "            if (batch_cnt+1) % 500 == 0:\n",
    "                saver.save(sess,\n",
    "                           os.path.join(save_dir, 'ckp-{}'.format(epoch+trained_epoch+1)))    # 以epoch为单位生成文件\n",
    "                print('model saved to ckp-{}'.format(epoch+trained_epoch+1))\n",
    "\n",
    "    # 训练完毕后还需要保存一次模型\n",
    "    saver.save(sess, os.path.join(\n",
    "        save_dir, 'ckp-{}'.format(epoch+trained_epoch+1)))\n",
    "    print('model saved to ckp-{}'.format(epoch+trained_epoch+1))\n",
    "    print('training done.')"
   ]
  }
 ],
 "metadata": {
  "kernelspec": {
   "display_name": "Python 3",
   "language": "python",
   "name": "python3"
  },
  "language_info": {
   "codemirror_mode": {
    "name": "ipython",
    "version": 3
   },
   "file_extension": ".py",
   "mimetype": "text/x-python",
   "name": "python",
   "nbconvert_exporter": "python",
   "pygments_lexer": "ipython3",
   "version": "3.5.2"
  }
 },
 "nbformat": 4,
 "nbformat_minor": 2
}
